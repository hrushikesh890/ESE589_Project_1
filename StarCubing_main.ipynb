{
 "cells": [
  {
   "cell_type": "code",
   "execution_count": null,
   "metadata": {},
   "outputs": [],
   "source": [
    "f = open(\"data/bezdekIris.data\", \"r\")\n",
    "fData = f.readlines()\n",
    "lData = []\n",
    "\n",
    "for sIter in fData:\n",
    "\tif (sIter[-1] == \"\\n\"):\n",
    "\t\tsIter = sIter[:-1]\n",
    "\tlData.append(sIter.split(\",\"))\n",
    "\n",
    "print(lData)"
   ]
  }
 ],
 "metadata": {
  "kernelspec": {
   "display_name": "Python 3",
   "language": "python",
   "name": "python3"
  },
  "language_info": {
   "codemirror_mode": {
    "name": "ipython",
    "version": 3
   },
   "file_extension": ".py",
   "mimetype": "text/x-python",
   "name": "python",
   "nbconvert_exporter": "python",
   "pygments_lexer": "ipython3",
   "version": "3.7.3"
  }
 },
 "nbformat": 4,
 "nbformat_minor": 2
}
