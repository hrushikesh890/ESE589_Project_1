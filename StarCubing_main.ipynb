{
 "cells": [
  {
   "cell_type": "code",
   "execution_count": 142,
   "metadata": {},
   "outputs": [],
   "source": [
    "# Read Data\n",
    "def read_data():\n",
    "    f = open(\"data/validationDataset.txt\", \"r\")\n",
    "    fData = f.readlines()\n",
    "    lData = []\n",
    "\n",
    "    for sIter in fData:\n",
    "        if (sIter[-1] == \"\\n\"):\n",
    "            sIter = sIter[:-1]\n",
    "        if (sIter == \"\"):\n",
    "            continue\n",
    "        lData.append(sIter.split(\",\"))\n",
    "    return lData"
   ]
  },
  {
   "cell_type": "code",
   "execution_count": 143,
   "metadata": {},
   "outputs": [],
   "source": [
    "# Create HashMaps\n",
    "def create_dictionary(lData):\n",
    "    lDicts = [dict() for x in range(len(lData[0]))] # array/list of dictionaries (Hashmaps)\n",
    "    for i in range(0, len(lData[0])):\n",
    "        dFeatures = {} # Empty hashmaps\n",
    "        for j in range(0, len(lData)):\n",
    "            if lData[j][i] in dFeatures.keys():\n",
    "                dFeatures[lData[j][i]] = dFeatures[lData[j][i]] + 1\n",
    "            else:\n",
    "                dFeatures[lData[j][i]] = 1\n",
    "        lDicts[i] = dFeatures\n",
    "    return lDicts"
   ]
  },
  {
   "cell_type": "code",
   "execution_count": 155,
   "metadata": {},
   "outputs": [
    {
     "name": "stdout",
     "output_type": "stream",
     "text": [
      "[['a1', 'b1', '*', '*'], ['a1', 'b1', '*', '*'], ['a1', '*', '*', '*'], ['a2', '*', 'c3', 'd4'], ['a2', '*', 'c3', 'd4']]\n"
     ]
    }
   ],
   "source": [
    "def star_reduction(lData, lDicts, nIcebergCondn):\n",
    "    lData1 = deepcopy(lData)\n",
    "    for i in range(0, len(lData[0])):\n",
    "        dInterest = lDicts[i]\n",
    "        for j in range(0, len(lData)):\n",
    "            if (dInterest[lData[j][i]] < nIcebergCondn):\n",
    "                lData1[j][i] = '*';\n",
    "    return lData1\n",
    "print(lData1)"
   ]
  },
  {
   "cell_type": "code",
   "execution_count": 156,
   "metadata": {},
   "outputs": [],
   "source": [
    "def tuple_convert(lData2):\n",
    "    for i in range(0, len(lData2)):\n",
    "        lData2[i] = tuple(lData2[i])\n",
    "    return lData2"
   ]
  },
  {
   "cell_type": "code",
   "execution_count": 157,
   "metadata": {},
   "outputs": [],
   "source": [
    "def generate_compressed_table(lData2):\n",
    "    dFeatures = {}\n",
    "    for i in range(0, len(lData2)):\n",
    "        if lData2[i] in dFeatures.keys():\n",
    "            dFeatures[lData2[i]] = dFeatures[lData2[i]] + 1\n",
    "        else:\n",
    "            dFeatures[lData2[i]] = 1\n",
    "    return dFeatures"
   ]
  },
  {
   "cell_type": "code",
   "execution_count": 158,
   "metadata": {},
   "outputs": [],
   "source": [
    "def lexographical_Sort_keys(lKeys):\n",
    "    lKeys = sorted(dFeatures.keys())\n",
    "    return lKeys"
   ]
  },
  {
   "cell_type": "code",
   "execution_count": 159,
   "metadata": {},
   "outputs": [],
   "source": [
    "#Tree class\n",
    "class Tree(object):\n",
    "    def __init__(node, label = \"root\", children = None, count = 0):\n",
    "        node.name = label\n",
    "        node.children = []\n",
    "        node.count = count\n",
    "        node.sibling = []\n",
    "        if (children != None):\n",
    "            for i in (0, len(children)):\n",
    "                node.add_node(children[i])\n",
    "    \n",
    "    def add_node(node, child):\n",
    "        node.children.append(child)\n",
    "    \n",
    "    def find(node, label = str(\"\")):\n",
    "        for i in range(0, len(node.children)):\n",
    "            if (node.children[i].name == label):\n",
    "                return node.children[i]\n",
    "        return None\n",
    "    \n",
    "    def update_count(node, count = 0):\n",
    "        node.count += count\n",
    "    \n",
    "    def add_sibling(node, sibling):\n",
    "        print(node.name)\n",
    "        node.sibling.append(sibling)"
   ]
  },
  {
   "cell_type": "code",
   "execution_count": 160,
   "metadata": {},
   "outputs": [],
   "source": [
    "def create_star_tree(lKeys):\n",
    "    star_tree = Tree()\n",
    "    for i in range (0, len(lKeys)):\n",
    "        head = star_tree\n",
    "        add_children_to_tree(head, lKeys[i], 0)\n",
    "    return star_tree"
   ]
  },
  {
   "cell_type": "code",
   "execution_count": 161,
   "metadata": {},
   "outputs": [],
   "source": [
    "def add_children_to_tree(head, tChars, nIndex):\n",
    "    tNew = head.find(tChars[nIndex])\n",
    "    if (tNew != None):\n",
    "        tNew.update_count(count = dFeatures[tChars])\n",
    "    else:\n",
    "        tNew = Tree(label = tChars[nIndex], count = dFeatures[tChars])\n",
    "        head.add_node(tNew)\n",
    "        if (len(head.children) > 1):\n",
    "            head.children[len(head.children) - 2].add_sibling(tNew)\n",
    "    nIndex += 1\n",
    "    if (nIndex < len(tChars)):\n",
    "        add_children_to_tree(tNew, tChars, nIndex)"
   ]
  },
  {
   "cell_type": "code",
   "execution_count": 166,
   "metadata": {},
   "outputs": [],
   "source": [
    "from copy import deepcopy\n",
    "def main():\n",
    "    nIcebergCondn = 2\n",
    "    lData = read_data()\n",
    "    lDicts = create_dictionary(lData)\n",
    "    lData1 = star_reduction(lData, lDicts, nIcebergCondn)\n",
    "    star_tree = create_star_tree(lKeys)\n",
    "    lCuboidValList = [\"*\"] * (len(lData[0]) + 1)\n",
    "    starcubing(star_tree, star_tree, 0, lCuboidValList)"
   ]
  },
  {
   "cell_type": "code",
   "execution_count": 163,
   "metadata": {},
   "outputs": [],
   "source": [
    "def fPrintTree(tree):\n",
    "    nIndex = 0\n",
    "    if (len(tree.children) != 0):\n",
    "        for child in tree.children:\n",
    "            fPrintTree(tree.children[nIndex])\n",
    "            nIndex+=1\n",
    "    print(tree.name, tree.count)"
   ]
  },
  {
   "cell_type": "code",
   "execution_count": 164,
   "metadata": {},
   "outputs": [],
   "source": [
    "def starcubing(star_tree, cNode, nLevel, lCuboidValList):\n",
    "    Cc = None\n",
    "    if (cNode.count >= nIcebergCondn):\n",
    "        if ((cNode.name != \"root\") or (len(cNode.children) == 0)):\n",
    "            lCuboidValList[nLevel] = cNode.count\n",
    "            print(lCuboidValList)\n",
    "        else:\n",
    "            Cc = Tree(name = \"root\", count = cNode.count, children = cNode.children)\n",
    "    \n",
    "    if (len(cNode.children) != 0):\n",
    "            starcubing(star_tree, cNode.children[0], nLevel + 1, lCuboidValList)\n",
    "    if (Cc != None):\n",
    "            starcubing(Cc, Cc, nLevel, lCuboidValList)\n",
    "    if (len(cNode.sibling) > 0):\n",
    "            cNode.sibling[0].count += cNode.count\n",
    "            starcubing(star_tree, cNode.sibling[0], nLevel,  lCuboidValList)\n",
    "    lCuboidValList[nLevel] = \"*\""
   ]
  },
  {
   "cell_type": "code",
   "execution_count": 167,
   "metadata": {},
   "outputs": [
    {
     "name": "stdout",
     "output_type": "stream",
     "text": [
      "*\n",
      "a1\n",
      "['*', 3, '*', '*', '*']\n",
      "['*', 3, 3, '*', '*']\n",
      "['*', 3, 3, 2, '*']\n",
      "['*', 3, 3, 2, 2]\n",
      "['*', 5, '*', '*', '*']\n",
      "['*', 5, 2, '*', '*']\n",
      "['*', 5, 2, 2, '*']\n",
      "['*', 5, 2, 2, 2]\n"
     ]
    }
   ],
   "source": [
    "if __name__ == \"__main__\":\n",
    "    main()"
   ]
  }
 ],
 "metadata": {
  "kernelspec": {
   "display_name": "Python 3",
   "language": "python",
   "name": "python3"
  },
  "language_info": {
   "codemirror_mode": {
    "name": "ipython",
    "version": 3
   },
   "file_extension": ".py",
   "mimetype": "text/x-python",
   "name": "python",
   "nbconvert_exporter": "python",
   "pygments_lexer": "ipython3",
   "version": "3.7.3"
  }
 },
 "nbformat": 4,
 "nbformat_minor": 2
}
