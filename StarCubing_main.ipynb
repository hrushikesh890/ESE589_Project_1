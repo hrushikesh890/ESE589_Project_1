{
 "cells": [
  {
   "cell_type": "code",
   "execution_count": 9,
   "metadata": {},
   "outputs": [
    {
     "name": "stdout",
     "output_type": "stream",
     "text": [
      "5\n",
      "3.5\n"
     ]
    }
   ],
   "source": [
    "# Read Data\n",
    "f = open(\"data/bezdekIris.data\", \"r\")\n",
    "fData = f.readlines()\n",
    "lData = []\n",
    "\n",
    "for sIter in fData:\n",
    "    if (sIter[-1] == \"\\n\"):\n",
    "        sIter = sIter[:-1]\n",
    "    if (sIter == \"\"):\n",
    "        continue\n",
    "    lData.append(sIter.split(\",\"))\n",
    "\n",
    "print(len(lData[0]))"
   ]
  },
  {
   "cell_type": "code",
   "execution_count": 19,
   "metadata": {},
   "outputs": [
    {
     "name": "stdout",
     "output_type": "stream",
     "text": [
      "{'Iris-setosa': 49, 'Iris-versicolor': 49, 'Iris-virginica': 49}\n"
     ]
    }
   ],
   "source": [
    "# Create HashMaps\n",
    "lDicts = [dict() for x in range(len(lData[0]))] # array/list of dictionaries (Hashmaps)\n",
    "for i in range(0, len(lData[0])):\n",
    "    dFeatures = {} # Empty hashmaps\n",
    "    for j in range(0, len(lData)):\n",
    "        if lData[j][i] in dFeatures.keys():\n",
    "            dFeatures[lData[j][i]] = dFeatures[lData[j][i]] + 1\n",
    "        else:\n",
    "            dFeatures[lData[j][i]] = 0\n",
    "    lDicts[i] = dFeatures\n",
    "print(lDicts[4])        "
   ]
  },
  {
   "cell_type": "code",
   "execution_count": null,
   "metadata": {},
   "outputs": [],
   "source": []
  }
 ],
 "metadata": {
  "kernelspec": {
   "display_name": "Python 3",
   "language": "python",
   "name": "python3"
  },
  "language_info": {
   "codemirror_mode": {
    "name": "ipython",
    "version": 3
   },
   "file_extension": ".py",
   "mimetype": "text/x-python",
   "name": "python",
   "nbconvert_exporter": "python",
   "pygments_lexer": "ipython3",
   "version": "3.7.3"
  }
 },
 "nbformat": 4,
 "nbformat_minor": 2
}
