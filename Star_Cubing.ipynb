{
 "cells": [
  {
   "cell_type": "code",
   "execution_count": 34,
   "metadata": {},
   "outputs": [],
   "source": [
    "# Read Data\n",
    "def read_data(filename):\n",
    "\tfilename = \"data/\" + filename\n",
    "\tprint(\"####################### STARCUBING FOR -> %s #######################\" %filename) \n",
    "\tf = open(filename, \"r\")\n",
    "\tfData = f.readlines()\n",
    "\tlData = []\n",
    "\n",
    "\tfor sIter in fData:\n",
    "\t\tif (sIter[-1] == \"\\n\"): # remove \\n\n",
    "\t\t\tsIter = sIter[:-1]\n",
    "\t\tif (sIter == \"\"):\n",
    "\t\t\tcontinue\n",
    "\t\tlData.append(sIter.split(\",\"))\n",
    "\tprint(\"No of Features : %s\" %(len(lData[0])))\n",
    "\tprint(\"No of Samples: %s\" %(len(lData)))\n",
    "\treturn lData\n",
    "\n",
    "# Create HashMaps\n",
    "def create_dictionary(lData):\n",
    "\tlDicts = [dict() for x in range(len(lData[0]))] # list of dictionaries (Hashmaps)\n",
    "\tfor i in range(0, len(lData[0])):\n",
    "\t\tdFeatures = {} # Empty hashmaps\n",
    "\t\tfor j in range(0, len(lData)):\n",
    "\t\t\tif lData[j][i] in dFeatures.keys():\n",
    "\t\t\t\tdFeatures[lData[j][i]] = dFeatures[lData[j][i]] + 1\n",
    "\t\t\telse:\n",
    "\t\t\t\tdFeatures[lData[j][i]] = 1\n",
    "\t\tlDicts[i] = dFeatures\n",
    "\treturn lDicts\n",
    "\n",
    "def star_reduction(lData, lDicts, nIcebergCondn):\n",
    "\tlData1 = deepcopy(lData)\n",
    "\tdStar_Table = {}\n",
    "\tfor i in range(0, len(lData[0])):\n",
    "\t\tdInterest = lDicts[i]\n",
    "\t\tfor j in range(0, len(lData)):\n",
    "\t\t\tif (dInterest[lData[j][i]] < nIcebergCondn):\n",
    "\t\t\t\tdStar_Table[lData1[j][i]] = \"*\"\n",
    "\t\t\t\tlData1[j][i] = '*';\n",
    "\treturn lData1\n",
    "\n",
    "def tuple_convert(lData2):\n",
    "\tfor i in range(0, len(lData2)):\n",
    "\t\tlData2[i] = tuple(lData2[i])\n",
    "\treturn lData2\n",
    "\n",
    "def generate_compressed_table(lData2):\n",
    "\tdFeatures = {}\n",
    "\tfor i in range(0, len(lData2)):\n",
    "\t\tif lData2[i] in dFeatures.keys():\n",
    "\t\t\tdFeatures[lData2[i]] = dFeatures[lData2[i]] + 1\n",
    "\t\telse:\n",
    "\t\t\tdFeatures[lData2[i]] = 1\n",
    "\treturn dFeatures\n",
    "\n",
    "def lexographical_Sort_keys(dFeatures):\n",
    "\tlKeys = []\n",
    "\tlKeys = sorted(dFeatures.keys())\n",
    "\treturn lKeys\n",
    "\n",
    "#Tree class\n",
    "class Tree(object):\n",
    "\tdef __init__(node, label = \"root\", children = None, count = 0):\n",
    "\t\tnode.name = label\n",
    "\t\tnode.children = []\n",
    "\t\tnode.count = count\n",
    "\t\tnode.sibling = []\n",
    "\t\tif (children != None):\n",
    "\t\t\tfor i in (0, len(children)):\n",
    "\t\t\t\tnode.add_node(children[i])\n",
    "\t\n",
    "\tdef add_node(node, child):\n",
    "\t\tnode.children.append(child)\n",
    "\t\n",
    "\tdef find(node, label = str(\"\")):\n",
    "\t\tfor i in range(0, len(node.children)):\n",
    "\t\t\tif (node.children[i].name == label):\n",
    "\t\t\t\treturn node.children[i]\n",
    "\t\treturn None\n",
    "\t\n",
    "\tdef update_count(node, count = 0):\n",
    "\t\tnode.count += count\n",
    "\t\n",
    "\tdef add_sibling(node, sibling):\n",
    "\t\tnode.sibling.append(sibling)\n",
    "\n",
    "def create_star_tree(lKeys, dFeatures):\n",
    "\tstar_tree = Tree()\n",
    "\tfor i in range (0, len(lKeys)):\n",
    "\t\thead = star_tree\n",
    "\t\tadd_children_to_tree(head, lKeys[i], 0, dFeatures)\n",
    "\tfor i in range(0, len(star_tree.children)):\n",
    "\t\tstar_tree.count += star_tree.children[i].count\n",
    "\treturn star_tree\n",
    "\n",
    "def add_children_to_tree(head, tChars, nIndex, dFeatures):\n",
    "\ttNew = head.find(tChars[nIndex])\n",
    "\tif (tNew != None):\n",
    "\t\ttNew.update_count(count = dFeatures[tChars])\n",
    "\telse:\n",
    "\t\ttNew = Tree(label = tChars[nIndex], count = dFeatures[tChars])\n",
    "\t\thead.add_node(tNew)\n",
    "\t\tif (len(head.children) > 1):\n",
    "\t\t\thead.children[len(head.children) - 2].add_sibling(tNew)\n",
    "\tnIndex += 1\n",
    "\tif (nIndex < len(tChars)):\n",
    "\t\tadd_children_to_tree(tNew, tChars, nIndex, dFeatures)\n",
    "\n",
    "def fPrintTree(tree):\n",
    "\tnIndex = 0\n",
    "\tif (len(tree.children) != 0):\n",
    "\t\tfor child in tree.children:\n",
    "\t\t\tfPrintTree(tree.children[nIndex])\n",
    "\t\t\tnIndex+=1\n",
    "\tprint(tree.name, tree.count)\n",
    "\n",
    "def starcubing(star_tree, cNode, nLevel, lCuboidValList, dFeatures, lSubTrees):\n",
    "\tCc = None\n",
    "\tlSubTrees[nLevel] = cNode\n",
    "\tif (cNode.count >= nIcebergCondn):\n",
    "\t\tif ((cNode.name != \"root\") or (len(cNode.children) == 0)):\n",
    "\t\t\tlCuboidValList[nLevel] = cNode.count\n",
    "\t\t\tprint(lCuboidValList) # <-- UnComment this line to view the cuboid values\n",
    "\t\telse:\n",
    "\t\t\tCc = Tree(label = \"root\", count = cNode.count)\n",
    "\t\n",
    "\tif (len(cNode.children) != 0):\n",
    "\t\t\tstarcubing(star_tree, cNode.children[0], nLevel + 1, lCuboidValList, dFeatures, lSubTrees)\n",
    "\tif (Cc != None):\n",
    "\t\t\tstarcubing(Cc, Cc, nLevel, lCuboidValList, dFeatures, lSubTrees)\n",
    "\tif (len(cNode.sibling) > 0):\n",
    "\t\t\tcNode.sibling[0].count += cNode.count\n",
    "\t\t\tstarcubing(star_tree, cNode.sibling[0], nLevel,  lCuboidValList, dFeatures, lSubTrees)\n",
    "\tlCuboidValList[nLevel] = \"*\"\n",
    "\n",
    "\n",
    "def write_results_to_csv(lDataCSV):\n",
    "\tsOutput = \"\"\n",
    "\tfile = open('output1.csv','w') \n",
    "\tfor i in range(len(lDataCSV)):\n",
    "\t\tfor j in range(len(lDataCSV[0])):\n",
    "\t\t\tsOutput += str(lDataCSV[i][j])\n",
    "\t\t\tsOutput += \",\"\n",
    "\t\tsOutput += '\\n'\n",
    "\tfile.write(sOutput)\n",
    "    \n",
    "nIcebergCondn = 2\n",
    "from copy import deepcopy\n",
    "import time\n",
    "import psutil\n",
    "import os"
   ]
  },
  {
   "cell_type": "code",
   "execution_count": 35,
   "metadata": {},
   "outputs": [
    {
     "name": "stdout",
     "output_type": "stream",
     "text": [
      "####################### STARCUBING FOR -> data/validationDataset.txt #######################\n",
      "No of Features : 4\n",
      "No of Samples: 5\n"
     ]
    },
    {
     "data": {
      "text/plain": [
       "[['a1', 'b1', 'c1', 'd1'],\n",
       " ['a1', 'b1', 'c4', 'd3'],\n",
       " ['a1', 'b2', 'c2', 'd2'],\n",
       " ['a2', 'b3', 'c3', 'd4'],\n",
       " ['a2', 'b4', 'c3', 'd4']]"
      ]
     },
     "execution_count": 35,
     "metadata": {},
     "output_type": "execute_result"
    }
   ],
   "source": [
    "# Reading the file and creating list of lists\n",
    "file = \"validationDataset.txt\"\n",
    "lData = read_data(file)\n",
    "lData"
   ]
  },
  {
   "cell_type": "code",
   "execution_count": 36,
   "metadata": {},
   "outputs": [
    {
     "name": "stdout",
     "output_type": "stream",
     "text": [
      "HashMaps:-\n",
      "[{'a1': 3, 'a2': 2}, {'b1': 2, 'b2': 1, 'b3': 1, 'b4': 1}, {'c1': 1, 'c4': 1, 'c2': 1, 'c3': 2}, {'d1': 1, 'd3': 1, 'd2': 1, 'd4': 2}]\n",
      "Database replaced with star:-\n",
      "[['a1', 'b1', '*', '*'], ['a1', 'b1', '*', '*'], ['a1', '*', '*', '*'], ['a2', '*', 'c3', 'd4'], ['a2', '*', 'c3', 'd4']]\n"
     ]
    }
   ],
   "source": [
    "# Generation of HashMaps and star reduction performed\n",
    "lDicts = create_dictionary(lData)\n",
    "lData1 = star_reduction(lData, lDicts, nIcebergCondn)\n",
    "print(\"HashMaps:-\")\n",
    "print(lDicts)\n",
    "print(\"Database replaced with star:-\")\n",
    "print(lData1)"
   ]
  },
  {
   "cell_type": "code",
   "execution_count": 37,
   "metadata": {},
   "outputs": [
    {
     "name": "stdout",
     "output_type": "stream",
     "text": [
      "Compressed base table:-\n",
      "{('a1', 'b1', '*', '*'): 2, ('a1', '*', '*', '*'): 1, ('a2', '*', 'c3', 'd4'): 2}\n"
     ]
    }
   ],
   "source": [
    "# Compressed base table\n",
    "lData1 = tuple_convert(lData1)\n",
    "dFeatures = generate_compressed_table(lData1)\n",
    "print(\"Compressed base table:-\")\n",
    "print(dFeatures)"
   ]
  },
  {
   "cell_type": "code",
   "execution_count": 39,
   "metadata": {},
   "outputs": [
    {
     "name": "stdout",
     "output_type": "stream",
     "text": [
      "[5, 3, '*', '*', '*']\n",
      "[5, 3, 3, '*', '*']\n",
      "[5, 3, 3, 2, '*']\n",
      "[5, 3, 3, 2, 2]\n",
      "[5, 5, '*', '*', '*']\n",
      "[5, 5, 2, '*', '*']\n",
      "[5, 5, 2, 2, '*']\n",
      "[5, 5, 2, 2, 2]\n",
      "[5, '*', '*', '*', '*']\n",
      "[<__main__.Tree object at 0x000001A196065358>, <__main__.Tree object at 0x000001A196065198>, <__main__.Tree object at 0x000001A196065208>, <__main__.Tree object at 0x000001A196065278>, <__main__.Tree object at 0x000001A1960652E8>]\n"
     ]
    }
   ],
   "source": [
    "lKeys = lexographical_Sort_keys(dFeatures)\n",
    "star_tree = create_star_tree(lKeys, dFeatures)\n",
    "lCuboidValList = [\"*\"] * (len(lData[0]) + 1)\n",
    "lCuboidValList[0] = star_tree.count\n",
    "lSubTrees = [\"*\"] * (len(lData[0]) + 1)\n",
    "starcubing(star_tree, star_tree, 0, lCuboidValList, dFeatures, lSubTrees)\n",
    "print(lSubTrees)"
   ]
  }
 ],
 "metadata": {
  "kernelspec": {
   "display_name": "Python 3",
   "language": "python",
   "name": "python3"
  },
  "language_info": {
   "codemirror_mode": {
    "name": "ipython",
    "version": 3
   },
   "file_extension": ".py",
   "mimetype": "text/x-python",
   "name": "python",
   "nbconvert_exporter": "python",
   "pygments_lexer": "ipython3",
   "version": "3.7.3"
  }
 },
 "nbformat": 4,
 "nbformat_minor": 2
}
